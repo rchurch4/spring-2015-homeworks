{
 "metadata": {
  "name": "",
  "signature": "sha256:d9b29b4ed65840ea955dd9ff093efa0282fa03f204b3ea3e7b42a6743ce8dc7f"
 },
 "nbformat": 3,
 "nbformat_minor": 0,
 "worksheets": [
  {
   "cells": [
    {
     "cell_type": "markdown",
     "metadata": {},
     "source": [
      "(In order to load the stylesheet of this notebook, execute the last code cell in this notebook)"
     ]
    },
    {
     "cell_type": "heading",
     "level": 1,
     "metadata": {},
     "source": [
      "Analyzing hotel ratings on Tripadvisor"
     ]
    },
    {
     "cell_type": "markdown",
     "metadata": {},
     "source": [
      "In this homework we will focus on practicing two techniques: web scraping and regression. For the first part, we will build upon the sample code from the Lecture and attempt to get some basic information for each hotel. Then, we will fit a regression model on this information and try to analyze it.   "
     ]
    },
    {
     "cell_type": "markdown",
     "metadata": {},
     "source": [
      "One of the main disadvantages of scraping a website instead of using an API is that, without any notice, the website may change its layout and render our code useless. Something like that happened in our case. Tripadvisor changed the layout of the buttons that we use to navigate between the different pages of the results. This was the main reason people were having problem with executing the code."
     ]
    },
    {
     "cell_type": "markdown",
     "metadata": {},
     "source": [
      "**Task 1 (20 pts)**\n",
      "\n",
      "The first task of the homework is to fix the scraping code. We basically need to replace the part where we are checking if there is another page and getting its link with new code that reflects the new navigation layout. "
     ]
    },
    {
     "cell_type": "markdown",
     "metadata": {},
     "source": [
      "** Task 2 (30 pts)**\n",
      "\n",
      "Then, for each hotel that our search returns, we will \"click\" (with the code of course) on it and scrape the information below.\n",
      "\n",
      "![Information to be scraped](hotel_info.png)\n",
      "\n",
      "Of course, feel free to collect even more data if you want. "
     ]
    },
    {
     "cell_type": "markdown",
     "metadata": {},
     "source": [
      "** Task 3 (20 pts) **\n",
      "\n",
      "Now, we will use regression to analyze this information. First, we will fit a linear regression model that predicts the average rating. For example, for the hotel above, the average rating is\n",
      "\n",
      "$$ \\text{AVG_SCORE} = \\frac{1*31 + 2*33 + 3*98 + 4*504 + 5*1861}{2527}$$\n",
      "\n",
      "Use the model to analyze the important factors that decide the $\\text{AVG_SCORE}$."
     ]
    },
    {
     "cell_type": "markdown",
     "metadata": {},
     "source": [
      "** Task 4 (30 pts) **\n",
      "\n",
      "Finally, we will use logistic regression to decide if a hotel is _excellent_ or not. We classify a hotel as _excellent_ if more than **60%** of its ratings are 5 stars. This is a binary attribute on which we can fit a logistic regression model. As before, use the model to analyze the data.\n",
      "\n",
      "-------"
     ]
    },
    {
     "cell_type": "markdown",
     "metadata": {},
     "source": [
      "In order to use code from a Python script file, we need to put that file in the same folder as the notebook and import it as a library. Then, we will be able to access it's functions. For example, in the case of the lecture code, we could do the following:\n",
      "\n",
      "``` python\n",
      "import scrape_solution as scrape\n",
      "\n",
      "scrape.get_city_page()\n",
      "```\n",
      "\n",
      "Of course, you might need to modify and restructure the code so that it returns what you need."
     ]
    },
    {
     "cell_type": "markdown",
     "metadata": {},
     "source": [
      "----"
     ]
    },
    {
     "cell_type": "code",
     "collapsed": false,
     "input": [
      "import scrape_solution as scrape\n",
      "import BeautifulSoup as soup\n",
      "import statsmodels.api as sm\n",
      "from random import shuffle\n",
      "import sklearn.metrics as metrics\n",
      "\n",
      "print 'done'"
     ],
     "language": "python",
     "metadata": {},
     "outputs": [
      {
       "output_type": "stream",
       "stream": "stdout",
       "text": [
        "done\n"
       ]
      }
     ],
     "prompt_number": 41
    },
    {
     "cell_type": "code",
     "collapsed": false,
     "input": [
      "print 'step 1'\n",
      "hotels_list = scrape.scrape_hotels('BOSTON', 'MA', 'data/')\n",
      "print 'step 2'\n",
      "\n",
      "print len(hotels_list)"
     ],
     "language": "python",
     "metadata": {},
     "outputs": [
      {
       "output_type": "stream",
       "stream": "stdout",
       "text": [
        "step 1\n",
        "We reached last page"
       ]
      },
      {
       "output_type": "stream",
       "stream": "stdout",
       "text": [
        "\n",
        "step 2"
       ]
      },
      {
       "output_type": "stream",
       "stream": "stdout",
       "text": [
        "\n",
        "77\n"
       ]
      }
     ],
     "prompt_number": 2
    },
    {
     "cell_type": "code",
     "collapsed": false,
     "input": [
      "y = []\n",
      "X = []\n",
      "z = []\n",
      "for h in hotels_list:\n",
      "    avg_score = (h[4]*5 + h[5]*4 + h[6]*3 + h[7]*2 + h[8]*1) / h[3]\n",
      "    h.append(avg_score)\n",
      "    #print avg_score\n",
      "    y.append(avg_score)\n",
      "    X.append(h[13:19])\n",
      "    is_excellent = (((h[4] / h[3]) >= 0.6) == True)\n",
      "    if is_excellent:\n",
      "        h.append(1)\n",
      "    else:\n",
      "        h.append(0)\n",
      "    z.append(h[-1])\n",
      "\n",
      "def shuffle_lists(l, m, n):\n",
      "#taken from stackoverflow http://stackoverflow.com/questions/11765061/better-way-to-shuffle-two-related-lists\n",
      "    list1_shuf = []\n",
      "    list2_shuf = []\n",
      "    list3_shuf = []\n",
      "    index_shuf = range(0,len(l))\n",
      "    shuffle(index_shuf)\n",
      "    for i in index_shuf:\n",
      "        list1_shuf.append(l[i])\n",
      "        list2_shuf.append(m[i])\n",
      "        list3_shuf.append(n[i])\n",
      "    return (list1_shuf, list2_shuf, list3_shuf)\n",
      "\n",
      "(shuf_y, shuf_X, shuf_z) = shuffle_lists(y,X,z)\n",
      "\n",
      "y1 = shuf_y[:70]\n",
      "y2 = shuf_y[70:]\n",
      "X1 = shuf_X[:70]\n",
      "X2 = shuf_X[70:]\n",
      "z1 = shuf_z[:70]\n",
      "z2 = shuf_z[70:]\n",
      "\n",
      "model = sm.OLS(y1, X1)\n",
      "results = model.fit()\n",
      "print \"Variables are: (Sleep Quality, Location, Rooms, Service, Value, Cleanliness)\"\n",
      "print\n",
      "print results.summary()\n",
      "print \"Confidence Intervals:\", results.conf_int()\n",
      "print \"Parameters:\", results.params\n",
      "print\n",
      "y_predict = results.predict(X2)\n",
      "print y_predict\n",
      "print y2"
     ],
     "language": "python",
     "metadata": {},
     "outputs": [
      {
       "output_type": "stream",
       "stream": "stdout",
       "text": [
        "Variables are: (Sleep Quality, Location, Rooms, Service, Value, Cleanliness)\n",
        "\n",
        "                            OLS Regression Results                            \n",
        "==============================================================================\n",
        "Dep. Variable:                      y   R-squared:                       0.999\n",
        "Model:                            OLS   Adj. R-squared:                  0.999\n",
        "Method:                 Least Squares   F-statistic:                 1.817e+04\n",
        "Date:                Mon, 06 Apr 2015   Prob (F-statistic):          2.18e-101\n",
        "Time:                        20:22:26   Log-Likelihood:                 62.823\n",
        "No. Observations:                  70   AIC:                            -113.6\n",
        "Df Residuals:                      64   BIC:                            -100.2\n",
        "Df Model:                           6                                         \n",
        "Covariance Type:            nonrobust                                         \n",
        "==============================================================================\n",
        "                 coef    std err          t      P>|t|      [95.0% Conf. Int.]\n",
        "------------------------------------------------------------------------------\n",
        "x1             0.0793      0.041      1.945      0.056        -0.002     0.161\n",
        "x2             0.1615      0.053      3.072      0.003         0.056     0.266\n",
        "x3             0.3193      0.053      6.022      0.000         0.213     0.425\n",
        "x4             0.1507      0.069      2.179      0.033         0.013     0.289\n",
        "x5             0.0420      0.048      0.883      0.381        -0.053     0.137\n",
        "x6             0.2194      0.062      3.529      0.001         0.095     0.344\n",
        "==============================================================================\n",
        "Omnibus:                        3.203   Durbin-Watson:                   1.939\n",
        "Prob(Omnibus):                  0.202   Jarque-Bera (JB):                1.861\n",
        "Skew:                          -0.121   Prob(JB):                        0.394\n",
        "Kurtosis:                       2.239   Cond. No.                         65.6\n",
        "==============================================================================\n",
        "\n",
        "Warnings:\n",
        "[1] Standard Errors assume that the covariance matrix of the errors is correctly specified.\n",
        "Confidence Intervals: [[-0.002145    0.16072898]\n",
        " [ 0.05647076  0.26646683]\n",
        " [ 0.21336551  0.42520124]\n",
        " [ 0.01255444  0.28876185]\n",
        " [-0.05301245  0.13699462]\n",
        " [ 0.09518315  0.34355184]]\n",
        "Parameters: [ 0.07929199  0.1614688   0.31928338  0.15065814  0.04199108  0.21936749]\n",
        "\n",
        "[ 4.19363675  4.23328275  4.40322333  3.18048746  4.01657774  4.65867165\n",
        "  4.15795367]\n",
        "[4.208970438328237, 4.337057728119181, 4.5777777777777775, 3.0832298136645964, 3.9324324324324325, 4.658914728682171, 4.1080459770114945]\n"
       ]
      }
     ],
     "prompt_number": 48
    },
    {
     "cell_type": "code",
     "collapsed": false,
     "input": [
      "logit = sm.Logit(z1, X1)\n",
      "result = logit.fit() \n",
      "print result.summary()\n",
      "print\n",
      "z_predict = result.predict(X2)\n",
      "print z_predict\n",
      "print z2"
     ],
     "language": "python",
     "metadata": {},
     "outputs": [
      {
       "output_type": "stream",
       "stream": "stdout",
       "text": [
        "Optimization terminated successfully.\n",
        "         Current function value: 0.466060\n",
        "         Iterations 7\n",
        "                           Logit Regression Results                           \n",
        "==============================================================================\n",
        "Dep. Variable:                      y   No. Observations:                   70\n",
        "Model:                          Logit   Df Residuals:                       64\n",
        "Method:                           MLE   Df Model:                            5\n",
        "Date:                Mon, 06 Apr 2015   Pseudo R-squ.:                  0.1030\n",
        "Time:                        20:26:37   Log-Likelihood:                -32.624\n",
        "converged:                       True   LL-Null:                       -36.371\n",
        "                                        LLR p-value:                    0.1865\n",
        "==============================================================================\n",
        "                 coef    std err          z      P>|z|      [95.0% Conf. Int.]\n",
        "------------------------------------------------------------------------------\n",
        "x1            -2.0627      1.184     -1.743      0.081        -4.383     0.257\n",
        "x2             2.7389      1.473      1.859      0.063        -0.148     5.626\n",
        "x3             2.5365      1.475      1.720      0.085        -0.354     5.427\n",
        "x4            -1.7332      2.036     -0.851      0.395        -5.723     2.257\n",
        "x5             0.3933      1.305      0.301      0.763        -2.165     2.952\n",
        "x6            -1.8327      1.612     -1.137      0.256        -4.992     1.327\n",
        "==============================================================================\n",
        "\n",
        "[ 0.21680724  0.08982974  0.10858758  0.02353892  0.1209098   0.18832294\n",
        "  0.19013867]\n",
        "[0, 0, 1, 0, 0, 1, 0]\n"
       ]
      }
     ],
     "prompt_number": 50
    },
    {
     "cell_type": "markdown",
     "metadata": {},
     "source": [
      "The linear regression model seems to have performed much better than the logistic regression model.  The linear regression model puts room quality above all else, followed by cleanliness, location, and service.  This seems like an accurate portrayal of how people judge a hotel.  It is also very accurate in predicting the average score of hotels.  It nearly always predicts the score within a tenth of a point.\n",
      "\n",
      "The logistic regression model seems to have gotten confused, and rightly so, because the scores of the individual characteristics of a hotel cannot guess whether the reviewer gave an overall rating of five stars or not, it can only guess the average overall rating.  One can potentially have a 3.4 rating overall and have 60% of its reviews be excellent, if the other 40% of its reviews are terrible.  At the same time, a hotel can have a 4.5 overall rating, with 50% 5 star reviews, and 50% 4 star reviews, and not be considered excellent.  This discrepency between actual score and excellence value makes predicting the excellence value difficult given only average review scores for individual characteristics."
     ]
    },
    {
     "cell_type": "code",
     "collapsed": false,
     "input": [
      "# Code for setting the style of the notebook\n",
      "from IPython.core.display import HTML\n",
      "def css_styling():\n",
      "    styles = open(\"../../theme/custom.css\", \"r\").read()\n",
      "    return HTML(styles)\n",
      "css_styling()"
     ],
     "language": "python",
     "metadata": {},
     "outputs": [
      {
       "html": [
        "<link href='http://fonts.googleapis.com/css?family=EB+Garamond' rel='stylesheet' type='text/css'>\n",
        "<link href='http://fonts.googleapis.com/css?family=Alegreya+Sans:100,300,400,500,700,800,900,100italic,300italic,400italic,500italic,700italic,800italic,900italic' rel='stylesheet' type='text/css'>\n",
        "<link href='http://fonts.googleapis.com/css?family=Source+Code+Pro:300,400' rel='stylesheet' type='text/css'>\n",
        "<style>\n",
        "    @font-face {\n",
        "        font-family: \"Computer Modern\";\n",
        "        src: url('http://mirrors.ctan.org/fonts/cm-unicode/fonts/otf/cmunss.otf');\n",
        "    }\n",
        "    .code_cell {\n",
        "        width: 105ex !important ;\n",
        "        margin-bottom: 15px !important;\n",
        "    }\n",
        "    div.cell {\n",
        "        margin-left: auto;\n",
        "        margin-right: auto;\n",
        "        width: 70%;\n",
        "    }    \n",
        "    div.cell.selected {\n",
        "        border: thin rgba(171, 171, 171, 0.5) dashed;\n",
        "    }\n",
        "    h1 {\n",
        "        font-family: 'Alegreya Sans', sans-serif;\n",
        "    }\n",
        "    h2 {\n",
        "        font-family: 'EB Garamond', serif;\n",
        "    }\n",
        "    h3 {\n",
        "        font-family: 'EB Garamond', serif;\n",
        "        margin-top:12px;\n",
        "        margin-bottom: 3px;\n",
        "    }\n",
        "    h4 {\n",
        "        font-family: 'EB Garamond', serif;\n",
        "    }\n",
        "    h5 {\n",
        "        font-family: 'Alegreya Sans', sans-serif;\n",
        "    }\n",
        "    div.text_cell_render {\n",
        "        font-family: 'EB Garamond',Computer Modern, \"Helvetica Neue\", Arial, Helvetica, Geneva, sans-serif;\n",
        "        line-height: 145%;\n",
        "        font-size: 140%;\n",
        "    }\n",
        "    div.input_area {\n",
        "        border-color: rgba(0,0,0,0.10) !important;\n",
        "        background: #fafafa;\n",
        "    }\n",
        "    .CodeMirror {\n",
        "            font-family: \"Source Code Pro\";\n",
        "            font-size: 90%;\n",
        "    }\n",
        "    .prompt {\n",
        "        display: None;\n",
        "    }\n",
        "    .output {\n",
        "        padding-left: 50px;\n",
        "        padding-top: 5px;\n",
        "    }\n",
        "    .output_wrapper {\n",
        "        padding-left: 5px;\n",
        "        padding-top: inherit;\n",
        "    }\n",
        "    div.output_scroll {\n",
        "        width: inherit;\n",
        "    }\n",
        "    .inner_cell {\n",
        "        padding-left: 5px;\n",
        "    }\n",
        "    .text_cell_render h1 {\n",
        "        font-weight: 200;\n",
        "        font-size: 50pt;\n",
        "        line-height: 100%;\n",
        "        color:#CD2305;\n",
        "        margin-bottom: 0.5em;\n",
        "        margin-top: 0.5em;\n",
        "        display: block;\n",
        "    }\n",
        "    .text_cell_render h5 {\n",
        "        font-weight: 300;\n",
        "        font-size: 16pt;\n",
        "        color: #CD2305;\n",
        "        font-style: italic;\n",
        "        margin-bottom: .5em;\n",
        "        margin-top: 0.5em;\n",
        "        display: block;\n",
        "    }\n",
        "    .warning {\n",
        "        color: rgb( 240, 20, 20 )\n",
        "        }  \n",
        "</style>\n",
        "<script>\n",
        "    MathJax.Hub.Config({\n",
        "                        TeX: {\n",
        "                           extensions: [\"AMSmath.js\"]\n",
        "                           },\n",
        "                tex2jax: {\n",
        "                    inlineMath: [ ['$','$'], [\"\\\\(\",\"\\\\)\"] ],\n",
        "                    displayMath: [ ['$$','$$'], [\"\\\\[\",\"\\\\]\"] ]\n",
        "                },\n",
        "                displayAlign: 'center', // Change this to 'center' to center equations.\n",
        "                \"HTML-CSS\": {\n",
        "                    styles: {'.MathJax_Display': {\"margin\": 4}}\n",
        "                }\n",
        "        });\n",
        "</script>"
       ],
       "metadata": {},
       "output_type": "pyout",
       "prompt_number": 1,
       "text": [
        "<IPython.core.display.HTML at 0x10c4d1550>"
       ]
      }
     ],
     "prompt_number": 1
    }
   ],
   "metadata": {}
  }
 ]
}