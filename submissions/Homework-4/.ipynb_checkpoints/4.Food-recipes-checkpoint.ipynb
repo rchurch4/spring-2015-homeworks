{
 "metadata": {
  "name": "",
  "signature": "sha256:3dea055603410c6fa9b82e34216ba75016498ad1f1f0ab6b39d3cea6ca053947"
 },
 "nbformat": 3,
 "nbformat_minor": 0,
 "worksheets": [
  {
   "cells": [
    {
     "cell_type": "markdown",
     "metadata": {},
     "source": [
      "(In order to load the stylesheet of this notebook, execute the last code cell in this notebook)"
     ]
    },
    {
     "cell_type": "heading",
     "level": 1,
     "metadata": {},
     "source": [
      "Clustering food recipes from around the world"
     ]
    },
    {
     "cell_type": "markdown",
     "metadata": {},
     "source": [
      "In this assignment, you are expected to hierarchically cluster food recipes. We will be using YY Ahn's dataset \"[Recipe datasets with cuisines](http://yongyeol.com/data/scirep-cuisines-detail.zip)\", which for each recipe provides a list of ingredients and the country of origin, scraped from popular recipe websites. He also provides an [ingredient and compounds dataset](http://yongyeol.com/data/ingr_comp.zip), which you could potentially also make use of, if you find it interesting.\n",
      "\n",
      "You will be graded as follow:\n",
      "* Data parsing and representation **(20 pts)**\n",
      "* Clustering **(30 pts)**\n",
      "* Visualization **(30 pts)**\n",
      "* Short (datailed) analysis of specific cluster **(20 pts)**\n",
      "\n",
      "---------------------------"
     ]
    },
    {
     "cell_type": "code",
     "collapsed": false,
     "input": [
      "%matplotlib inline\n",
      "import pandas as pd\n",
      "import seaborn as sns\n",
      "from matplotlib import pyplot as plt\n",
      "from collections import OrderedDict as OD\n",
      "import operator\n",
      "import scipy.cluster.hierarchy as hr\n",
      "\n",
      "f1 = open('map.txt', 'r')\n",
      "country_to_continent = {}\n",
      "continent_to_country = OD()\n",
      "for line in f1:\n",
      "    entry = line.lower().rstrip().split('\\t')\n",
      "    if len(entry) == 1:\n",
      "        entry.append(entry[0])\n",
      "    country_to_continent[entry[0]] = entry[1]\n",
      "    try:\n",
      "        continent_to_country[entry[1]].append(entry[0])\n",
      "    except KeyError:\n",
      "        continent_to_country[entry[1]] = [entry[0]]\n",
      "#print len(continent_to_country)\n",
      "\n",
      "file_names = ['allr_recipes.txt', 'epic_recipes.txt', 'menu_recipes.txt']\n",
      "recipes = []\n",
      "ingredients = {}\n",
      "for i in file_names:\n",
      "    #print i\n",
      "    f1 = open(i, 'r')\n",
      "    for line in f1:\n",
      "        entry = line.lower().rstrip().split('\\t')\n",
      "        recipes.append([country_to_continent[entry[0]], entry[0], entry[1:]])\n",
      "        for i in entry[1:]:\n",
      "            try:\n",
      "                ingredients[i] += 1\n",
      "            except KeyError:\n",
      "                ingredients[i] = 1\n",
      "print len(ingredients)\n",
      "print len(recipes)\n",
      "\n",
      "#print len(continent_to_country)\n",
      "#print continent_to_country[continent_to_country.keys()[continent_to_country.keys().index('northamerican')]]\n",
      "\n",
      "regional_recipes = []\n",
      "for i in range(0,len(continent_to_country)):\n",
      "    regional_recipes.append([])\n",
      "for r in recipes:\n",
      "    index = continent_to_country.keys().index(r[0])\n",
      "    l = regional_recipes[index]\n",
      "    l.append(r)\n",
      "    regional_recipes[index] = l\n",
      "    \n",
      "# for i in regional_recipes:\n",
      "#     print i[0][0] + ' : ' + str(len(i))\n",
      "    \n",
      "sorted_ingredients = sorted(ingredients.items(), key=operator.itemgetter(1))\n",
      "\n",
      "#print sorted_ingredients[-20:]\n"
     ],
     "language": "python",
     "metadata": {},
     "outputs": [
      {
       "output_type": "stream",
       "stream": "stdout",
       "text": [
        "383\n",
        "57691\n"
       ]
      }
     ],
     "prompt_number": 182
    },
    {
     "cell_type": "code",
     "collapsed": false,
     "input": [
      "#hypothesis: cabernet_sauvignon_wine will be found in western_european (french) food as well as in north-\n",
      "#american food because french food influences american food\n",
      "\n",
      "def find_ingredient(str):\n",
      "    region_dict = {}\n",
      "    for i in range(0,len(regional_recipes)):\n",
      "        region = regional_recipes[i]\n",
      "        region_name = continent_to_country.keys()[i]\n",
      "        total_occurences = 0\n",
      "        for r in region:\n",
      "            if str in r[2]:\n",
      "                total_occurences +=1\n",
      "        region_dict[region_name] = total_occurences\n",
      "    return region_dict\n",
      "\n",
      "print 'Cabernet Findings: '+str(find_ingredient('cabernet_sauvignon_wine'))\n",
      "print\n",
      "\n",
      "#found out that there are WAY more northamerican recipes than any other recipe combined\n",
      "#time to see how many ingredients are shared throughout the entire world\n",
      "\n",
      "def new_find_ingredient(str):\n",
      "    region_dict = {}\n",
      "    not_shared = False\n",
      "    for i in range(0,len(regional_recipes)):\n",
      "        region = regional_recipes[i]\n",
      "        region_name = continent_to_country.keys()[i]\n",
      "        total_occurences = 0\n",
      "        factor = len(region)\n",
      "        for r in region:\n",
      "            if str in r[2]:\n",
      "                total_occurences += (1.0/factor)\n",
      "        if total_occurences == 0:\n",
      "            not_shared = True\n",
      "        region_dict[region_name] = total_occurences\n",
      "    return (region_dict, not not_shared)\n",
      "\n",
      "def get_not_shared_ingredients():\n",
      "    keys = list(ingredients.keys())\n",
      "    shared_list = []\n",
      "    for i in keys:\n",
      "        dictionary, shared = new_find_ingredient(i)\n",
      "        if not shared:\n",
      "            shared_list.append(i)\n",
      "    return shared_list\n",
      "\n",
      "#remove universally shared ingredients, because they don't offer any insight into relationships\n",
      "#between any smaller group of areas\n",
      "\n",
      "shared_list = get_not_shared_ingredients()\n",
      "print len(shared_list)\n",
      "#print shared_list\n"
     ],
     "language": "python",
     "metadata": {},
     "outputs": [
      {
       "output_type": "stream",
       "stream": "stdout",
       "text": [
        "Cabernet Findings: {'northerneuropean': 0, 'westerneuropean': 1, 'southerneuropean': 2, 'southasian': 0, 'latinamerican': 0, 'northamerican': 13, 'eastasian': 0, 'asian': 0, 'southeastasian': 0, 'african': 0, 'middleeastern': 1, 'easterneuropean': 0}\n",
        "\n",
        "285"
       ]
      },
      {
       "output_type": "stream",
       "stream": "stdout",
       "text": [
        "\n"
       ]
      }
     ],
     "prompt_number": 183
    },
    {
     "cell_type": "code",
     "collapsed": false,
     "input": [
      "#create regional_ingredients list of dictionaries\n",
      "\n",
      "regional_ingredients = []\n",
      "for region in regional_recipes:\n",
      "    newest = [0]*(len(shared_list)+1)\n",
      "    newest[0] = region[0][0]\n",
      "    factor = len(region)\n",
      "    for r in region:\n",
      "        new_i = r[2]\n",
      "        for i in new_i:\n",
      "            if i in shared_list:\n",
      "                newest[shared_list.index(i)+1] += (1.0/factor)\n",
      "    regional_ingredients.append(newest)\n",
      "\n",
      "column_headers = ['region'] + shared_list\n",
      "# print len(regional_ingredients)\n",
      "# print regional_ingredients[5]"
     ],
     "language": "python",
     "metadata": {},
     "outputs": [],
     "prompt_number": 184
    },
    {
     "cell_type": "code",
     "collapsed": false,
     "input": [
      "#put it into a dataframe\n",
      "\n",
      "df = pd.DataFrame(regional_ingredients, columns=column_headers)\n",
      "\n",
      "df.set_index(['region'], drop=True, inplace=True)\n",
      "\n",
      "#print df"
     ],
     "language": "python",
     "metadata": {},
     "outputs": [],
     "prompt_number": 185
    },
    {
     "cell_type": "code",
     "collapsed": false,
     "input": [
      "Z = hr.linkage(df, method='complete', metric='euclidean')\n",
      "\n",
      "print Z.shape, df.shape\n",
      "\n",
      "fig = plt.figure(figsize=(10,10))\n",
      "T = hr.dendrogram(Z,color_threshold=0.4, leaf_font_size=12, labels=list(continent_to_country.keys()))\n",
      "plt.xticks(rotation=75)\n",
      "fig.show()"
     ],
     "language": "python",
     "metadata": {},
     "outputs": [
      {
       "output_type": "stream",
       "stream": "stdout",
       "text": [
        "(11, 4) (12, 285)\n"
       ]
      },
      {
       "metadata": {},
       "output_type": "display_data",
       "png": "[encoded data removed]",
       "text": [
        "<matplotlib.figure.Figure at 0x1160c9b50>"
       ]
      }
     ],
     "prompt_number": 186
    },
    {
     "cell_type": "markdown",
     "metadata": {},
     "source": [
      "It is said that American food is heavily influenced by French and other European foods, so I originally set out to find a correlation between the two sides of the pond.  I started by breaking the recipes into the twelve regions of the world using the mapping.txt file.  Once I broke the recipes into the twelve regions, I started experimenting with the ingredients.  \n",
      "\n",
      "I found that there were not even 400 ingredients worldwide, and more than 25% of them were common to every single region of the world.  I took interest originally in the rarer ingredients.  I saw that cabernet_sauvignon_wine was a particularly rare ingredient, coming in with around twenty recipes worldwide.  I expected to find most of them in Western European recipes, with a few making their way across the Atlantic to the North American recipes.  What I found was all but a handful of the recipes were North American.  That couldn't be right.  I investigated and found that an overwhelming number of recipes (41,000/57,000) came from North America.  Going on, I was going to have to normalize data so that it wasn't skewed in favor of North America.\n",
      "\n",
      "The next step was to get a list of the frequencies of all of the ingredients of each region, so that we could easily compare the regions.  Instead of using all the ingredients, I removed the ingredients that were common to every region, because they would only dilute the comparisons between regions.  By removing the common ingredients, we create a more stark contrasts between the regions.\n",
      "\n",
      "Finally, I used the lists of uncommon ingredients to create a Pandas DataFrame, and used that frame to create a Hierarchical Clustering of the twelve regions of the world, based on the frequencies of their ingredients (which were normalized over the number of total recipes in each region).  Lo and behold, the first clustering paired North American and Western European (including France) recipes together, indicating their strong correlation to one another.  That cluster later gained Middle Eastern, Eastern European, and Northern European recipes as well, which probably reflects the geographical proximity of all but North America, and certainly reflects the immigration trend from Europe to North America that certainly brought with it many unique ingredients and recipes.\n",
      "\n",
      "This clustering seems like an accurate portrayal of the connections between European and North American recipes, the former having famously influenced the latter.  The removal of common ingredients served to highlight the true similarities between certain areas in the world, and keep out as many false connections as possible."
     ]
    },
    {
     "cell_type": "markdown",
     "metadata": {},
     "source": [
      "### References"
     ]
    },
    {
     "cell_type": "markdown",
     "metadata": {},
     "source": [
      "1. Ahn, Yong-Yeol, et al. \"Flavor network and the principles of food pairing.\" Scientific reports 1 (2011)."
     ]
    },
    {
     "cell_type": "code",
     "collapsed": false,
     "input": [
      "# Code for setting the style of the notebook\n",
      "from IPython.core.display import HTML\n",
      "def css_styling():\n",
      "    styles = open(\"../../theme/custom.css\", \"r\").read()\n",
      "    return HTML(styles)\n",
      "css_styling()"
     ],
     "language": "python",
     "metadata": {},
     "outputs": [
      {
       "html": [
        "<link href='http://fonts.googleapis.com/css?family=EB+Garamond' rel='stylesheet' type='text/css'>\n",
        "<link href='http://fonts.googleapis.com/css?family=Alegreya+Sans:100,300,400,500,700,800,900,100italic,300italic,400italic,500italic,700italic,800italic,900italic' rel='stylesheet' type='text/css'>\n",
        "<link href='http://fonts.googleapis.com/css?family=Source+Code+Pro:300,400' rel='stylesheet' type='text/css'>\n",
        "<style>\n",
        "    @font-face {\n",
        "        font-family: \"Computer Modern\";\n",
        "        src: url('http://mirrors.ctan.org/fonts/cm-unicode/fonts/otf/cmunss.otf');\n",
        "    }\n",
        "    .code_cell {\n",
        "        width: 105ex !important ;\n",
        "        margin-bottom: 15px !important;\n",
        "    }\n",
        "    div.cell {\n",
        "        margin-left: auto;\n",
        "        margin-right: auto;\n",
        "        width: 70%;\n",
        "    }    \n",
        "    div.cell.selected {\n",
        "        border: thin rgba(171, 171, 171, 0.5) dashed;\n",
        "    }\n",
        "    h1 {\n",
        "        font-family: 'Alegreya Sans', sans-serif;\n",
        "    }\n",
        "    h2 {\n",
        "        font-family: 'EB Garamond', serif;\n",
        "    }\n",
        "    h3 {\n",
        "        font-family: 'EB Garamond', serif;\n",
        "        margin-top:12px;\n",
        "        margin-bottom: 3px;\n",
        "    }\n",
        "    h4 {\n",
        "        font-family: 'EB Garamond', serif;\n",
        "    }\n",
        "    h5 {\n",
        "        font-family: 'Alegreya Sans', sans-serif;\n",
        "    }\n",
        "    div.text_cell_render {\n",
        "        font-family: 'EB Garamond',Computer Modern, \"Helvetica Neue\", Arial, Helvetica, Geneva, sans-serif;\n",
        "        line-height: 145%;\n",
        "        font-size: 140%;\n",
        "    }\n",
        "    div.input_area {\n",
        "        border-color: rgba(0,0,0,0.10) !important;\n",
        "        background: #fafafa;\n",
        "    }\n",
        "    .CodeMirror {\n",
        "            font-family: \"Source Code Pro\";\n",
        "            font-size: 90%;\n",
        "    }\n",
        "    .prompt {\n",
        "        display: None;\n",
        "    }\n",
        "    .output {\n",
        "        padding-left: 50px;\n",
        "        padding-top: 5px;\n",
        "    }\n",
        "    .output_wrapper {\n",
        "        padding-left: 5px;\n",
        "        padding-top: inherit;\n",
        "    }\n",
        "    div.output_scroll {\n",
        "        width: inherit;\n",
        "    }\n",
        "    .inner_cell {\n",
        "        padding-left: 5px;\n",
        "    }\n",
        "    .text_cell_render h1 {\n",
        "        font-weight: 200;\n",
        "        font-size: 50pt;\n",
        "        line-height: 100%;\n",
        "        color:#CD2305;\n",
        "        margin-bottom: 0.5em;\n",
        "        margin-top: 0.5em;\n",
        "        display: block;\n",
        "    }\n",
        "    .text_cell_render h5 {\n",
        "        font-weight: 300;\n",
        "        font-size: 16pt;\n",
        "        color: #CD2305;\n",
        "        font-style: italic;\n",
        "        margin-bottom: .5em;\n",
        "        margin-top: 0.5em;\n",
        "        display: block;\n",
        "    }\n",
        "    .warning {\n",
        "        color: rgb( 240, 20, 20 )\n",
        "        }  \n",
        "</style>\n",
        "<script>\n",
        "    MathJax.Hub.Config({\n",
        "                        TeX: {\n",
        "                           extensions: [\"AMSmath.js\"]\n",
        "                           },\n",
        "                tex2jax: {\n",
        "                    inlineMath: [ ['$','$'], [\"\\\\(\",\"\\\\)\"] ],\n",
        "                    displayMath: [ ['$$','$$'], [\"\\\\[\",\"\\\\]\"] ]\n",
        "                },\n",
        "                displayAlign: 'center', // Change this to 'center' to center equations.\n",
        "                \"HTML-CSS\": {\n",
        "                    styles: {'.MathJax_Display': {\"margin\": 4}}\n",
        "                }\n",
        "        });\n",
        "</script>"
       ],
       "metadata": {},
       "output_type": "pyout",
       "prompt_number": 1,
       "text": [
        "<IPython.core.display.HTML at 0x10c150490>"
       ]
      }
     ],
     "prompt_number": 1
    },
    {
     "cell_type": "code",
     "collapsed": false,
     "input": [],
     "language": "python",
     "metadata": {},
     "outputs": []
    }
   ],
   "metadata": {}
  }
 ]
}