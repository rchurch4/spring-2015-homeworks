{
 "metadata": {
  "name": "",
  "signature": "sha256:ed6d8867a720e4191aa8fa27f0fadd1354c5704cd1b92e39b8a4308d63dab635"
 },
 "nbformat": 3,
 "nbformat_minor": 0,
 "worksheets": [
  {
   "cells": [
    {
     "cell_type": "markdown",
     "metadata": {},
     "source": [
      "(In order to load the stylesheet of this notebook, execute the last code cell in this notebook)"
     ]
    },
    {
     "cell_type": "heading",
     "level": 1,
     "metadata": {},
     "source": [
      "Clustering food recipes from around the world"
     ]
    },
    {
     "cell_type": "markdown",
     "metadata": {},
     "source": [
      "In this assignment, you are expected to hierarchically cluster food recipes. We will be using YY Ahn's dataset \"[Recipe datasets with cuisines](http://yongyeol.com/data/scirep-cuisines-detail.zip)\", which for each recipe provides a list of ingredients and the country of origin, scraped from popular recipe websites. He also provides an [ingredient and compounds dataset](http://yongyeol.com/data/ingr_comp.zip), which you could potentially also make use of, if you find it interesting.\n",
      "\n",
      "You will be graded as follow:\n",
      "* Data parsing and representation **(20 pts)**\n",
      "* Clustering **(30 pts)**\n",
      "* Visualization **(30 pts)**\n",
      "* Short (datailed) analysis of specific cluster **(20 pts)**\n",
      "\n",
      "---------------------------"
     ]
    },
    {
     "cell_type": "code",
     "collapsed": false,
     "input": [
      "%matplotlib inline\n",
      "import pandas as pd\n",
      "import seaborn as sns\n",
      "from matplotlib import pyplot as plt\n",
      "from collections import OrderedDict as OD\n",
      "import operator\n",
      "\n",
      "f1 = open('map.txt', 'r')\n",
      "country_to_continent = {}\n",
      "continent_to_country = OD()\n",
      "for line in f1:\n",
      "    entry = line.lower().rstrip().split('\\t')\n",
      "    if len(entry) == 1:\n",
      "        entry.append(entry[0])\n",
      "    country_to_continent[entry[0]] = entry[1]\n",
      "    try:\n",
      "        continent_to_country[entry[1]].append(entry[0])\n",
      "    except KeyError:\n",
      "        continent_to_country[entry[1]] = [entry[0]]\n",
      "#print len(continent_to_country)\n",
      "\n",
      "file_names = ['allr_recipes.txt', 'epic_recipes.txt', 'menu_recipes.txt']\n",
      "recipes = []\n",
      "ingredients = {}\n",
      "for i in file_names:\n",
      "    #print i\n",
      "    f1 = open(i, 'r')\n",
      "    for line in f1:\n",
      "        entry = line.lower().rstrip().split('\\t')\n",
      "        recipes.append([country_to_continent[entry[0]], entry[0], entry[1:]])\n",
      "        for i in entry[1:]:\n",
      "            try:\n",
      "                ingredients[i] += 1\n",
      "            except KeyError:\n",
      "                ingredients[i] = 1\n",
      "print len(ingredients)\n",
      "print len(recipes)\n",
      "\n",
      "#print len(continent_to_country)\n",
      "#print continent_to_country[continent_to_country.keys()[continent_to_country.keys().index('northamerican')]]\n",
      "\n",
      "regional_recipes = []\n",
      "for i in range(0,len(continent_to_country)):\n",
      "    regional_recipes.append([])\n",
      "for r in recipes:\n",
      "    index = continent_to_country.keys().index(r[0])\n",
      "    l = regional_recipes[index]\n",
      "    l.append(r)\n",
      "    regional_recipes[index] = l\n",
      "    \n",
      "sorted_ingredients = sorted(ingredients.items(), key=operator.itemgetter(1))\n",
      "\n"
     ],
     "language": "python",
     "metadata": {},
     "outputs": [
      {
       "output_type": "stream",
       "stream": "stdout",
       "text": [
        "383\n",
        "57691\n",
        "[('smoked_fish', 6), ('violet', 6), ('bergamot', 7), ('carob', 7), ('sunflower_oil', 8), ('jasmine', 8), ('grape_brandy', 8), ('black_raspberry', 8), ('ouzo', 9), ('peppermint_oil', 9), ('baked_potato', 9), ('leaf', 9), ('lingonberry', 9), ('condiment', 9), ('gardenia', 9), ('herring', 10), ('clove', 10), ('huckleberry', 10), ('beef_liver', 10), ('armagnac', 11), ('pear_brandy', 11), ('black_currant', 11), ('camembert_cheese', 12), ('litchi', 12), ('concord_grape', 12), ('guava', 13), ('artemisia', 13), ('japanese_plum', 13), ('sumac', 14), ('mandarin_peel', 15), ('roasted_meat', 15), ('salmon_roe', 15), ('cabernet_sauvignon_wine', 17), ('coconut_oil', 17), ('orange_flower', 18), ('sassafras', 18), ('prickly_pear', 20), ('passion_fruit', 20), ('eel', 20), ('licorice', 21)]"
       ]
      },
      {
       "output_type": "stream",
       "stream": "stdout",
       "text": [
        "\n"
       ]
      }
     ],
     "prompt_number": 81
    },
    {
     "cell_type": "code",
     "collapsed": false,
     "input": [],
     "language": "python",
     "metadata": {},
     "outputs": []
    },
    {
     "cell_type": "markdown",
     "metadata": {},
     "source": [
      "### References"
     ]
    },
    {
     "cell_type": "markdown",
     "metadata": {},
     "source": [
      "1. Ahn, Yong-Yeol, et al. \"Flavor network and the principles of food pairing.\" Scientific reports 1 (2011)."
     ]
    },
    {
     "cell_type": "code",
     "collapsed": false,
     "input": [
      "# Code for setting the style of the notebook\n",
      "from IPython.core.display import HTML\n",
      "def css_styling():\n",
      "    styles = open(\"../../theme/custom.css\", \"r\").read()\n",
      "    return HTML(styles)\n",
      "css_styling()"
     ],
     "language": "python",
     "metadata": {},
     "outputs": [
      {
       "html": [
        "<link href='http://fonts.googleapis.com/css?family=EB+Garamond' rel='stylesheet' type='text/css'>\n",
        "<link href='http://fonts.googleapis.com/css?family=Alegreya+Sans:100,300,400,500,700,800,900,100italic,300italic,400italic,500italic,700italic,800italic,900italic' rel='stylesheet' type='text/css'>\n",
        "<link href='http://fonts.googleapis.com/css?family=Source+Code+Pro:300,400' rel='stylesheet' type='text/css'>\n",
        "<style>\n",
        "    @font-face {\n",
        "        font-family: \"Computer Modern\";\n",
        "        src: url('http://mirrors.ctan.org/fonts/cm-unicode/fonts/otf/cmunss.otf');\n",
        "    }\n",
        "    .code_cell {\n",
        "        width: 105ex !important ;\n",
        "        margin-bottom: 15px !important;\n",
        "    }\n",
        "    div.cell {\n",
        "        margin-left: auto;\n",
        "        margin-right: auto;\n",
        "        width: 70%;\n",
        "    }    \n",
        "    div.cell.selected {\n",
        "        border: thin rgba(171, 171, 171, 0.5) dashed;\n",
        "    }\n",
        "    h1 {\n",
        "        font-family: 'Alegreya Sans', sans-serif;\n",
        "    }\n",
        "    h2 {\n",
        "        font-family: 'EB Garamond', serif;\n",
        "    }\n",
        "    h3 {\n",
        "        font-family: 'EB Garamond', serif;\n",
        "        margin-top:12px;\n",
        "        margin-bottom: 3px;\n",
        "    }\n",
        "    h4 {\n",
        "        font-family: 'EB Garamond', serif;\n",
        "    }\n",
        "    h5 {\n",
        "        font-family: 'Alegreya Sans', sans-serif;\n",
        "    }\n",
        "    div.text_cell_render {\n",
        "        font-family: 'EB Garamond',Computer Modern, \"Helvetica Neue\", Arial, Helvetica, Geneva, sans-serif;\n",
        "        line-height: 145%;\n",
        "        font-size: 140%;\n",
        "    }\n",
        "    div.input_area {\n",
        "        border-color: rgba(0,0,0,0.10) !important;\n",
        "        background: #fafafa;\n",
        "    }\n",
        "    .CodeMirror {\n",
        "            font-family: \"Source Code Pro\";\n",
        "            font-size: 90%;\n",
        "    }\n",
        "    .prompt {\n",
        "        display: None;\n",
        "    }\n",
        "    .output {\n",
        "        padding-left: 50px;\n",
        "        padding-top: 5px;\n",
        "    }\n",
        "    .output_wrapper {\n",
        "        padding-left: 5px;\n",
        "        padding-top: inherit;\n",
        "    }\n",
        "    div.output_scroll {\n",
        "        width: inherit;\n",
        "    }\n",
        "    .inner_cell {\n",
        "        padding-left: 5px;\n",
        "    }\n",
        "    .text_cell_render h1 {\n",
        "        font-weight: 200;\n",
        "        font-size: 50pt;\n",
        "        line-height: 100%;\n",
        "        color:#CD2305;\n",
        "        margin-bottom: 0.5em;\n",
        "        margin-top: 0.5em;\n",
        "        display: block;\n",
        "    }\n",
        "    .text_cell_render h5 {\n",
        "        font-weight: 300;\n",
        "        font-size: 16pt;\n",
        "        color: #CD2305;\n",
        "        font-style: italic;\n",
        "        margin-bottom: .5em;\n",
        "        margin-top: 0.5em;\n",
        "        display: block;\n",
        "    }\n",
        "    .warning {\n",
        "        color: rgb( 240, 20, 20 )\n",
        "        }  \n",
        "</style>\n",
        "<script>\n",
        "    MathJax.Hub.Config({\n",
        "                        TeX: {\n",
        "                           extensions: [\"AMSmath.js\"]\n",
        "                           },\n",
        "                tex2jax: {\n",
        "                    inlineMath: [ ['$','$'], [\"\\\\(\",\"\\\\)\"] ],\n",
        "                    displayMath: [ ['$$','$$'], [\"\\\\[\",\"\\\\]\"] ]\n",
        "                },\n",
        "                displayAlign: 'center', // Change this to 'center' to center equations.\n",
        "                \"HTML-CSS\": {\n",
        "                    styles: {'.MathJax_Display': {\"margin\": 4}}\n",
        "                }\n",
        "        });\n",
        "</script>"
       ],
       "metadata": {},
       "output_type": "pyout",
       "prompt_number": 1,
       "text": [
        "<IPython.core.display.HTML at 0x10c150490>"
       ]
      }
     ],
     "prompt_number": 1
    },
    {
     "cell_type": "code",
     "collapsed": false,
     "input": [],
     "language": "python",
     "metadata": {},
     "outputs": []
    }
   ],
   "metadata": {}
  }
 ]
}