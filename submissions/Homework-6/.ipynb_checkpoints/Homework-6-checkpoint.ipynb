{
 "metadata": {
  "name": "",
  "signature": "sha256:da977d212b1ccd2ef38eccc82024ad56d204dcdddff58efb386f76bce47ef844"
 },
 "nbformat": 3,
 "nbformat_minor": 0,
 "worksheets": [
  {
   "cells": [
    {
     "cell_type": "markdown",
     "metadata": {},
     "source": [
      "The IMDB dataset is vast.  Not only does each cast contain about 25 people on average, but there is an incredible amount of overlap in casts, especially in behind-the-scenes jobs like film editing, casting, and music scoring.  We collected information from over 7000 movies made between 2000 and 2013.  We then created a graph of the relationships between cast members from each movie.  The edge weight between any two given cast members is proportional to the number of films that they have worked on together.  Because we are interested in communities of movie-creators, we don't care about pairs who only work together once.  Therefore, once we had created our full graph (V=174793, E=8350847), we can went through and removed edges whose weight was one.  This left us with a much more manageable, much more informative graph G2 = (V=29389, E=120890).  This graph has 852 connected components, so we could easily identify of small, 'outlier' communities after using a data visualization tool.  There are still certainly communities that are hidden in the biggest connected component, and we believe that those will be the most interesting, certainly with the most potential to bring in revenue and good ratings given their large networks.  \n",
      "\n",
      "In the Homework-6 directory, you can find two different pictures of the graph G2. The 'edge_weights.png' picture shows that the subset of edges with very high weight is extremely small, and that the subset is very intertwined, with the same few nodes as the ends of just about every edge.  That community is the easiest to identify given that picture.  The 'cc.png' picture highlights the nodes with high clustering coefficients.  Obviously, the main connected component contains quite a few nodes with high clustering coefficients, but it is important to note that there are nodes on the fringe with especially high values as well, indicating that the clustering coefficients should help us to identify strong communities whose edge weights are not sky-high.\n",
      "\n",
      "The next step is going to be to create a graph of the movies, possibly with the jaccard similarity or cosine similarity of their casts as the edge weights.  The goal is still to identify communities that create high rated and highly profitable movies, and to find whether there is a correlation between rating and profitability, so the movie graph is a must-have.\n",
      "\n",
      "You can see in the bottom-most cell of this notebook the degree distribution for G2.  The vast majority of nodes have degree less than 100, which, along with the wide-spread presence of high clustering coefficient nodes, indicates that although there is a giant connected component amongst many small ones, in the giant component lies many smaller, more tightly-knit communities to be discovered.  There-in lies the real challenge of the IMDB dataset.\n",
      "\n",
      "NOTES FOR READING THIS NOTEBOOK:\n",
      "- Everything should be pre-run, so you should not have to run any of the code in the cells.\n",
      "- If you want to run code in the cells, you can without having to expect a long run-time.  The scraper has been pre-compiled, and all of the information that it retrieved is stored locally, so calling the scraper function in the notebook only actually reads the files from the local data directory.  The longest runtime for any cell should be the third cell, in which G1, the huge graph, is created, although it only takes 1-2 minutes."
     ]
    },
    {
     "cell_type": "code",
     "collapsed": false,
     "input": [
      "import imdb_scraper as scrape\n",
      "import numpy as np\n",
      "import pandas as pd\n",
      "import networkx as nx\n",
      "import matplotlib.pyplot as plt\n",
      "import operator\n",
      "%matplotlib inline\n",
      "%load_ext autoreload"
     ],
     "language": "python",
     "metadata": {},
     "outputs": [
      {
       "output_type": "stream",
       "stream": "stdout",
       "text": [
        "The autoreload extension is already loaded. To reload it, use:\n",
        "  %reload_ext autoreload\n"
       ]
      }
     ],
     "prompt_number": 99
    },
    {
     "cell_type": "code",
     "collapsed": false,
     "input": [
      "# Loads in the pre-scraped data\n",
      "\n",
      "%autoreload 2\n",
      "movie_info = scrape.parse_imdb(2000,2015,'data/',True,True)\n",
      "print len(movie_info)"
     ],
     "language": "python",
     "metadata": {},
     "outputs": [
      {
       "output_type": "stream",
       "stream": "stdout",
       "text": [
        "7012\n"
       ]
      }
     ],
     "prompt_number": 40
    },
    {
     "cell_type": "code",
     "collapsed": false,
     "input": [
      "# Creates the giant graph\n",
      "\n",
      "g = nx.Graph()\n",
      "\n",
      "for m in movie_info:\n",
      "    cast_list = m[-1]\n",
      "    try:\n",
      "        cast_list.remove('')\n",
      "    except ValueError:\n",
      "        pass\n",
      "    for i in range(0,len(cast_list)):\n",
      "        for j in range(i+1, len(cast_list)):\n",
      "            new_edge = None\n",
      "            try:\n",
      "                g[cast_list[i]][cast_list[j]]['weight'] += 1\n",
      "            except KeyError, TypeError:\n",
      "                g.add_edge(cast_list[i], cast_list[j], weight=1)\n",
      "\n",
      "print 'Nodes: ' + str(len(g.nodes()))\n",
      "print 'Edges: ' + str(len(g.edges()))"
     ],
     "language": "python",
     "metadata": {},
     "outputs": [
      {
       "output_type": "stream",
       "stream": "stdout",
       "text": [
        "Nodes: 174793\n",
        "Edges: 8350847"
       ]
      },
      {
       "output_type": "stream",
       "stream": "stdout",
       "text": [
        "\n"
       ]
      }
     ],
     "prompt_number": 96
    },
    {
     "cell_type": "code",
     "collapsed": false,
     "input": [
      "# Removes edges of weight 1\n",
      "\n",
      "edge_remove = []\n",
      "for edge in g.edges(data=True):\n",
      "    if edge[2]['weight'] < 2:\n",
      "        edge_remove.append(edge)\n",
      "g.remove_edges_from(edge_remove)\n",
      "\n",
      "node_remove = [node for node,degree in g.degree().items() if degree == 0]\n",
      "g.remove_nodes_from(node_remove)\n",
      "\n",
      "print 'Nodes: ' + str(len(g.nodes()))\n",
      "print 'Edges: ' + str(len(g.edges()))"
     ],
     "language": "python",
     "metadata": {},
     "outputs": [
      {
       "output_type": "stream",
       "stream": "stdout",
       "text": [
        "Nodes: 29389\n",
        "Edges: 120890"
       ]
      },
      {
       "output_type": "stream",
       "stream": "stdout",
       "text": [
        "\n"
       ]
      }
     ],
     "prompt_number": 97
    },
    {
     "cell_type": "code",
     "collapsed": false,
     "input": [
      "# Functions for investigation and such\n",
      "\n",
      "# O(V^2 log(V))\n",
      "def max_weight(g):\n",
      "    return max(g.edges(data=True), key=lambda (source,target,data): data['weight'])\n",
      "\n",
      "# O(V)\n",
      "def max_degree(g):\n",
      "    return max(nx.degree(g).values())\n",
      "\n",
      "# O(V)\n",
      "def node_of_max_degree(g):\n",
      "    max_d = max_degree(g)\n",
      "    node = [n for n in g if g.degree(n) == max_d]\n",
      "    return g.degree(node)\n",
      "\n",
      "print node_of_max_degree(g)"
     ],
     "language": "python",
     "metadata": {},
     "outputs": [
      {
       "output_type": "stream",
       "stream": "stdout",
       "text": [
        "{'Pete Anthony': 958}\n"
       ]
      }
     ],
     "prompt_number": 89
    },
    {
     "cell_type": "code",
     "collapsed": false,
     "input": [
      "# Writes GML file for use in Gephi\n",
      "\n",
      "nx.write_gml(g, 'data/imdb.gml')"
     ],
     "language": "python",
     "metadata": {},
     "outputs": [],
     "prompt_number": 102
    },
    {
     "cell_type": "code",
     "collapsed": false,
     "input": [
      "# More functions for investigation and such\n",
      "\n",
      "def top_x_percentile_degree(g, x):\n",
      "    p = 1-(x*0.01)\n",
      "    top = []\n",
      "    max_d = max_degree(g)\n",
      "    node = [n for n in g if g.degree(n) >= max_d*p]\n",
      "    return g.degree(node)\n",
      "\n",
      "#print top_x_percentile_degree(g, 30)\n",
      "\n",
      "# dictionary sorting by values taken from http://stackoverflow.com/questions/613183/sort-a-python-dictionary-by-value\n",
      "def top_x_degrees(g, x):\n",
      "    sorted_d = sorted(nx.degree(g).items(), key=operator.itemgetter(1), reverse=True)\n",
      "    if x < len(sorted_d):\n",
      "        return sorted_d[:x+1]\n",
      "    else:\n",
      "        return sorted_d\n",
      "    \n",
      "print top_x_degrees(g, 10)"
     ],
     "language": "python",
     "metadata": {},
     "outputs": [
      {
       "output_type": "stream",
       "stream": "stdout",
       "text": [
        "[('Pete Anthony', 958), ('Vanessa Baker', 856), ('Gary Burritt', 535), ('GA Aguilar', 495), ('Heike Brandstatter', 476), ('Deborah Aquila', 430), ('James Ashwill', 426), ('Kerry Barden', 396), ('Abigail Barbier', 335), ('Avy Kaufman', 325), ('Selena Arizanovic', 285)]\n"
       ]
      }
     ],
     "prompt_number": 92
    },
    {
     "cell_type": "code",
     "collapsed": false,
     "input": [
      "# Histogram\n",
      "\n",
      "d_hist = nx.degree_histogram(g)\n",
      "\n",
      "plt.plot(d_hist)"
     ],
     "language": "python",
     "metadata": {},
     "outputs": [
      {
       "metadata": {},
       "output_type": "pyout",
       "prompt_number": 103,
       "text": [
        "[<matplotlib.lines.Line2D at 0x128deab10>]"
       ]
      },
      {
       "metadata": {},
       "output_type": "display_data",
       "png": "[encoded data removed]",
       "text": [
        "<matplotlib.figure.Figure at 0x148818590>"
       ]
      }
     ],
     "prompt_number": 103
    }
   ],
   "metadata": {}
  }
 ]
}