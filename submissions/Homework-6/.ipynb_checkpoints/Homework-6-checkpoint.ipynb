{
 "metadata": {
  "name": "",
  "signature": "sha256:674b54cd7e7389227eb677af77a635e71616036f4786ea2efefdf5d9a81a4362"
 },
 "nbformat": 3,
 "nbformat_minor": 0,
 "worksheets": [
  {
   "cells": [
    {
     "cell_type": "code",
     "collapsed": false,
     "input": [
      "import imdb_scraper as scrape\n",
      "import numpy as np\n",
      "import pandas as pd\n",
      "\n",
      "movie_info = scrape.parse_imdb(2000,2015,'data/',True,True)\n",
      "print len(movie_info)"
     ],
     "language": "python",
     "metadata": {},
     "outputs": [
      {
       "output_type": "stream",
       "stream": "stdout",
       "text": [
        "Getting info from file\n",
        "190\n"
       ]
      }
     ],
     "prompt_number": 2
    },
    {
     "cell_type": "code",
     "collapsed": false,
     "input": [],
     "language": "python",
     "metadata": {},
     "outputs": []
    }
   ],
   "metadata": {}
  }
 ]
}